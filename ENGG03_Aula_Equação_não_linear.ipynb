{
  "nbformat": 4,
  "nbformat_minor": 0,
  "metadata": {
    "colab": {
      "provenance": [],
      "include_colab_link": true
    },
    "kernelspec": {
      "name": "python3",
      "display_name": "Python 3"
    },
    "language_info": {
      "name": "python"
    }
  },
  "cells": [
    {
      "cell_type": "markdown",
      "metadata": {
        "id": "view-in-github",
        "colab_type": "text"
      },
      "source": [
        "<a href=\"https://colab.research.google.com/github/Megadeath0101/ENGG03-METODOS-NMRL/blob/main/ENGG03_Aula_Equa%C3%A7%C3%A3o_n%C3%A3o_linear.ipynb\" target=\"_parent\"><img src=\"https://colab.research.google.com/assets/colab-badge.svg\" alt=\"Open In Colab\"/></a>"
      ]
    },
    {
      "cell_type": "markdown",
      "source": [
        "# Resolução de equação não linear\n",
        "\n",
        "Podemos dizer que as funções lineares são expressões matemáticas simples, nas quais são representadas gráficamente por retas. Mais específicamente, as funções lineares são aquelas que obedecem o príncipio da superposição $f(k\\cdot x) = kf(x)$ onde $k$ é uma constante e $x$ é a varíavel.\n",
        "\n",
        "Além disso, a representação matemática de uma função linear pode ser dada por $f(x) = a\\cdot x + b$, onde $a$ e $b$ são constante que determinam o comportamento da reta no plano cartesiano.\n",
        "\n",
        "Já as funções não lineares são todas as funções que não seguem as regras das funções lineares, ou seja, não obedecem o príncipio da superposição e nem pode ser representada pela equação da reta.\n",
        "\n",
        "Dito isso, assim como as funções lineares, achar a solução de uma função não linear é o mesmo que encontrar o valor de $x$ para que $f(x) = 0$.\n",
        "\n",
        "Vejamos o seguinte exemplo: $f(x) = (x-3)^2 - 1$\n",
        "\n",
        "\\begin{align}\n",
        "f(x) &= (x-3)^2 - 1\\\\\n",
        "0 &= (x-3)^2 - 1\\\\\n",
        "1 &= (x-3)^2\\\\\n",
        "\\sqrt{1} &= \\sqrt{(x-3)^2}\\\\\n",
        "\\pm 1 &= (x-3)\\\\\n",
        "\\pm 1 + 3 &= x\\\\\n",
        "x_1 &= +1 + 3 = 4\\\\\n",
        "x_2 &= -1 + 3 = 2\n",
        "\\end{align}\n",
        "\n",
        "Vamos olhar o gráfico da função"
      ],
      "metadata": {
        "id": "WzUIoRGt3BE0"
      }
    },
    {
      "cell_type": "code",
      "source": [],
      "metadata": {
        "id": "KQy_Yrg5r4Pf"
      },
      "execution_count": null,
      "outputs": []
    },
    {
      "cell_type": "code",
      "execution_count": null,
      "metadata": {
        "colab": {
          "base_uri": "https://localhost:8080/",
          "height": 623
        },
        "id": "JHRDaegGvoHG",
        "outputId": "b25771f9-f692-4b9a-c365-a59a2af75a96",
        "cellView": "form"
      },
      "outputs": [
        {
          "output_type": "display_data",
          "data": {
            "text/plain": [
              "<IPython.core.display.HTML object>"
            ],
            "text/html": [
              "<iframe src=\"https://www.geogebra.org/classic/s3faux3c?embed\" width=\"800\" height=\"600\" allowfullscreen style=\"border: 1px solid #e4e4e4;border-radius: 4px;\" frameborder=\"0\"></iframe>\n"
            ]
          },
          "metadata": {}
        }
      ],
      "source": [
        "#@title Analisando o gráfico\n",
        "%%html\n",
        "<iframe src=\"https://www.geogebra.org/classic/s3faux3c?embed\" width=\"800\" height=\"600\" allowfullscreen style=\"border: 1px solid #e4e4e4;border-radius: 4px;\" frameborder=\"0\"></iframe>"
      ]
    },
    {
      "cell_type": "markdown",
      "source": [
        "Outra característica das funções lineares é a possibilidade de ter mais de uma raiz, diferente da função linear.\n",
        "\n",
        "Sabemos que a equação do segundo grau apresentada possui duas raízes, logo ela é uma função não linear.\n",
        "\n",
        "No entanto, não diferente da função linear, podemos obter a solução $f(x)=0$ apenas aplicando operações matemáticas simples para encontramos a solução, ou seja, isolar a variável $x$"
      ],
      "metadata": {
        "id": "5DhZTChKF1fC"
      }
    },
    {
      "cell_type": "markdown",
      "source": [
        "## Aproximação para equação linear (linearização)\n",
        "\n",
        "Diferente da equação de segundo grau, a maioria das funções não lineares não podem ser operada de maneira simples para obter a solução da equação. Nestes casos podemos aproximar a função em questão para um função de fácil resolução, como por exemplo a função linear.\n",
        "\n",
        "Para tanto usamos a série de Taylor truncada na primeira ordem dada por:\n",
        "\\begin{align}\n",
        "f(x) ≈ f̰(x) = f(x_0) + \\left. \\frac{df(x)}{dx} \\right|_{x=x_0} \\left(x - x_0 \\right)\n",
        "\\end{align}\n",
        "onde $x_0$ é um valor definido.\n",
        "\n",
        "Note que a função $f(x)$ é aproximada por uma reta, $f̰(x)$, de inclinação dada por $\\left. \\frac{df(x)}{dx} \\right|_{x=x_0} = f'(x_0)$.\n",
        "\n",
        "Além disso, note que a reta obitida, $f̰(x)$, intercepta a função em um único ponto $(x_0,f(x_0))$, como mostra o gráfico anterior.\n",
        "\n",
        "### Exemplo\n",
        "Vamos tomar a equação do segundo grau anterior como exemplo, $f(x) = (x-3)^2 -1$\n",
        "\n",
        "Para aplicarmos a aproximação por série de Taylor temos que determinar primeiro a derivada, que nesse caso é $f'(x) = 2x - 6$.\n",
        "\n",
        "Aplicando a aproximação teremos:\n",
        "\\begin{align}\n",
        "f(x) \\approx f̰(x) &= f(x_0) + f'(x_0) \\left(x - x_0 \\right) \\\\\n",
        "f̰(x) &= (x_0-3)^2 -1 + (2x_0 - 6)(x-x_0)\\\\\n",
        "&= x_0^2 -6x_0 + 9 -1 + 2x_0x - 2x_0^2 - 6x + 6x_0\\\\\n",
        "f̰(x) &= (2x_0 - 6)x - x_0^2 + 8\\\\\n",
        "\\end{align}\n",
        "\n",
        "Note que $f̰(x)$ é uma reta de inclição $(2x_0 - 6)$ e coeficiente linear $- x_0^2 + 8$, onde $x_0$ é um valor qualquer para $x$.\n",
        "\n",
        "Logo aproximamos uma função do segundo grau $f(x) = (x-3)^2 -1$, para um reta $f̰(x)=(2x_0 - 6)x - x_0^2 + 8$. Note que pra $x=x_0$, implica em $f(x_0) = f̰(x_0)$\n",
        "\\begin{align}\n",
        "f(x_0) &= (x_0-3)^2 -1 = x_0^2 -6x_0 +8\\\\\n",
        "f̰(x_0)&=(2x_0 - 6)x_0 - x_0^2 + 8 = x_0^2 -6x_0 +8\n",
        "\\end{align}\n",
        "\n",
        "Dessa maneira podemos afirmar que para o ponto $x_0$ as funções são equivalentes.\n",
        "\n",
        "## Achando a solução por aproximação linear\n",
        "\n",
        "Partindo da hipótese que $f(x) \\approx f̰(x)$, vejamos o que acontence com a raiz $f̰(x)$, para um dado $x_0$.\n",
        "\n",
        "\\begin{align}\n",
        "\\text{ Linerizando em torno de }x_0 &= 6\\\\\n",
        "f̰(x) &= (2x_0 - 6)x - x_0^2 + 8\\\\\n",
        "&= 6x -28\\\\\n",
        "f̰(x) = 0 & → x=\\frac{28}{6} = 4.67\\\\\n",
        "\\text{ Linerizando em torno de }x_0 &= 5\\\\\n",
        "f̰(x) &= (2x_0 - 6)x - x_0^2 + 8\\\\\n",
        "&= 4x -17\\\\\n",
        "f̰(x) = 0 & → x=\\frac{17}{4} = 4.25\\\\\n",
        "\\text{ Linerizando em torno de }x_0 &= 4\\\\\n",
        "f̰(x) &= (2x_0 - 6)x - x_0^2 + 8\\\\\n",
        "&= 2x -8\\\\\n",
        "f̰(x) = 0 & → x=\\frac{8}{2} = 4\n",
        "\\end{align}\n",
        "\n",
        "Sabemos que uma das soluções de $f(x)=0$ é 4. Como sabemos tambéms que $f(x_0) = f̰(x_0)$, ao linearizarmos em torno de 4 era de se esperar que 4 também fosse raiz de $f̰(x)$. Observe também, que a medida que eu vou linearizando mais perto da raiz de $f(x)$, a raiz da função linearizada tende,$f̰(x)=0$ tende para a raiz da função original.\n",
        "\n",
        "Dessa forma, podemo encontrar a raiz de um função fazendo linearizações sucessivas na direção da raiz da função original. Note que a raiz da função linearizada aponta para a direção da raiz original, dessa forma se substituirmos a raiz encontrada em cada passo teremos:\n",
        "\\begin{align}\n",
        "\\text{ Linerizando em torno de }x_0 &= 6\\\\\n",
        "f̰(x_1) &= (2x_0 - 6)x_1 - x_0^2 + 8\\\\\n",
        "&= 6x -28\\\\\n",
        "f̰(x_1) = 0 & → x_1=\\frac{28}{6} = 4.67\\\\\n",
        "\\text{ Linerizando em torno de }x_1 &= 4.67\\\\\n",
        "f̰(x_2) &= (2x_1 - 6)x_2 - x_1^2 + 8\\\\\n",
        "&= 3.34x_3 -13.81\\\\\n",
        "f̰(x_2) = 0 & → x_2=\\frac{13.81}{3.34} = 4.13\\\\\n",
        "\\text{ Linerizando em torno de }x_2 &= 4.13\\\\\n",
        "f̰(x_3) &= (2x_2 - 6)x_3 - x_2^2 + 8\\\\\n",
        "&= 2.27x_3 -9.06\\\\\n",
        "f̰(x_3) = 0 & → x_3=\\frac{9.06}{2.27} = 3.99\n",
        "\\\\\n",
        "\\text{ Linerizando em torno de }x_3 &= 3.99\\\\\n",
        "f̰(x_4) &= (2x_3 - 6)x_4 - x_3^2 + 8\\\\\n",
        "&= 1.98x_4 -7.92\\\\\n",
        "f̰(x_4) = 0 & → x_4=\\frac{7.92}{1.98} = 4.00\n",
        "\\end{align}\n",
        "\n"
      ],
      "metadata": {
        "id": "J-G1IvFLHwpe"
      }
    },
    {
      "cell_type": "markdown",
      "source": [
        "## Método de Newto-Rapshon\n",
        "\n",
        "A partir do exposto anteriormente sabemos que uma função não linear $f(x)$ pode ser aproximadada para uma função linear através da série de Taylor.\n",
        "\n",
        "Além disso, vimos que a raiz da função $f(x)$ pode ser encontrada através de linearizações sucessivas partindo de um ponto qualquer, $x_k$.\n",
        "\n",
        "Sendo assim, generalizando o raciocínio anterior temos:\n",
        "\\begin{align}\n",
        "f̰(x) & = f(x_k) + f'(x_k)(x-x_k)\\\\\n",
        "f̰(x_{k+1}) & = f(x_k) + f'(x_k)(x_{k+1}-x_k)\\\\\n",
        "f̰(x_{k+1}) & = 0\\\\\n",
        "f(x_k) + f'(x_k)(x_{k+1}-x_k)&=0\\\\\n",
        "f'(x_k)(x_{k+1}-x_k)&= -f(x_k)\\\\\n",
        "(x_{k+1}-x_k)&= -\\frac{f(x_k)}{f'(x_k)}\\\\\n",
        "x_{k+1}&= x_k -\\frac{f(x_k)}{f'(x_k)}\n",
        "\\end{align}"
      ],
      "metadata": {
        "id": "9WJYTJSeZ0FT"
      }
    },
    {
      "cell_type": "code",
      "source": [
        "#@title Algoritmo de Newton-Raphson\n",
        "\n",
        "# Definindo a função\n",
        "def funcao(x):\n",
        "  return (x-3.0)**2.0 - 1.0\n",
        "\n",
        "# Definindo a derivada da funca\n",
        "def derivada_funcao(x):\n",
        "  return 2.0*x - 6.0\n",
        "\n",
        "# Valor de partida, estimativa inicial\n",
        "xk = 6.0\n",
        "# Valor da função para o ponto k\n",
        "fk = funcao(xk)\n",
        "tol = 1e-10 # Tolerância\n",
        "\n",
        "while abs(fk) > tol: # Critério de parada\n",
        "  # Atulizando o valor de xk\n",
        "  xk = xk - funcao(xk)/derivada_funcao(xk)\n",
        "\n",
        "  # Atualizando o valor de f(x_k)\n",
        "  fk = funcao(xk)\n",
        "  print('Valor atual de x',xk)\n",
        "  print('Valor atual de f(x)',fk)"
      ],
      "metadata": {
        "colab": {
          "base_uri": "https://localhost:8080/"
        },
        "id": "2CJPfP2qdh4U",
        "outputId": "3a844ad0-c265-4d98-c107-670d52176674"
      },
      "execution_count": null,
      "outputs": [
        {
          "output_type": "stream",
          "name": "stdout",
          "text": [
            "Valor atual de x 4.666666666666667\n",
            "Valor atual de f(x) 1.7777777777777786\n",
            "Valor atual de x 4.133333333333334\n",
            "Valor atual de f(x) 0.2844444444444454\n",
            "Valor atual de x 4.007843137254902\n",
            "Valor atual de f(x) 0.015747789311803206\n",
            "Valor atual de x 4.000030518043793\n",
            "Valor atual de f(x) 6.10370189377818e-05\n",
            "Valor atual de x 4.000000000465661\n",
            "Valor atual de f(x) 9.313225746154785e-10\n",
            "Valor atual de x 4.0\n",
            "Valor atual de f(x) 0.0\n"
          ]
        }
      ]
    },
    {
      "cell_type": "code",
      "source": [
        "#@title Usando função nativa do python\n",
        "from scipy.optimize import fsolve\n",
        "\n",
        "# Estimativa initial\n",
        "x0 = 6.0\n",
        "x = fsolve(funcao,x0)\n",
        "print(\"A raiz da função:\", x)"
      ],
      "metadata": {
        "colab": {
          "base_uri": "https://localhost:8080/"
        },
        "id": "QBOPxtZ6eHVu",
        "outputId": "882418ab-0ecd-4291-b9e4-a8d8d7fe33cd"
      },
      "execution_count": null,
      "outputs": [
        {
          "output_type": "stream",
          "name": "stdout",
          "text": [
            "A raiz da função: [4.]\n"
          ]
        }
      ]
    }
  ]
}