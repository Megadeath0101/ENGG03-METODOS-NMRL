{
  "nbformat": 4,
  "nbformat_minor": 0,
  "metadata": {
    "colab": {
      "provenance": [],
      "include_colab_link": true
    },
    "kernelspec": {
      "name": "python3",
      "display_name": "Python 3"
    },
    "language_info": {
      "name": "python"
    }
  },
  "cells": [
    {
      "cell_type": "markdown",
      "metadata": {
        "id": "view-in-github",
        "colab_type": "text"
      },
      "source": [
        "<a href=\"https://colab.research.google.com/github/Megadeath0101/ENGG03-METODOS-NMRL/blob/main/ENGG03_Aula_Diferen%C3%A7as_finitas.ipynb\" target=\"_parent\"><img src=\"https://colab.research.google.com/assets/colab-badge.svg\" alt=\"Open In Colab\"/></a>"
      ]
    },
    {
      "cell_type": "markdown",
      "source": [
        "# Exercício 1 (6.21 - Gilat)\n",
        "Uma viga com 1 m de comprimento é suportada em ambas as extremidades e submetida a uma carga.\n",
        "\n",
        "A deflexão da viga é dada pela equação diferencial:\n",
        "\n",
        "\\begin{align}\n",
        "\\frac{d^2y}{dx^2} = \\frac{-M(x)}{EI}\n",
        "\\end{align}\n",
        "\n",
        "onde y é a deflexão, x é a coordenada medida ao longo do comprimento da viga, M(x) é o momento fletor e EI = $1.2\\times 10^7$ N-m2 é a rigidez flexural da viga.\n",
        "\n",
        "Os dados a seguir são obtidos a partir da medição da deflexão da viga versus posição.\n",
        "\n",
        "| \\(x\\) (m) | 0     | 0.2   | 0.4   | 0.6   | 0.8   | 1.0   |\n",
        "|-----------|-------|-------|-------|-------|-------|-------|\n",
        "| \\(y\\) (cm)| 0     | 7.78  | 10.68 | 8.38  | 3.97  | 0     |\n",
        "\n",
        "\n",
        "Determine o momento fletor M(x) em cada x a partir desses dados."
      ],
      "metadata": {
        "id": "nybNXgGQstfg"
      }
    },
    {
      "cell_type": "code",
      "execution_count": null,
      "metadata": {
        "id": "BEO1hlOhsfng",
        "colab": {
          "base_uri": "https://localhost:8080/"
        },
        "outputId": "845f4495-3c69-40de-bfe0-dc37033a5f90"
      },
      "outputs": [
        {
          "output_type": "stream",
          "name": "stdout",
          "text": [
            "[ -61.      -93.5    -108.6875  -56.125    -7.6875    5.5   ]\n"
          ]
        }
      ],
      "source": [
        "import numpy as np\n",
        "x = np.array([0.0, 0.2, 0.4, 0.6, 0.8, 1.0])\n",
        "y = np.array([0.0, 7.78, 10.68, 8.38, 3.97, 0.0])\n",
        "# Calcular a derivada progressiva\n",
        "def derivada(y,x):\n",
        "  dydx = np.zeros((len(x)))\n",
        "  n = len(x)-1\n",
        "  for i in range(len(x)-1):\n",
        "    if i == 0:\n",
        "      dydx[i] = (y[i+1]-y[i])/(x[i+1]-x[i]) # Derivada progressiva\n",
        "    else:\n",
        "      dydx[i] = (y[i+1]-y[i-1])/(x[i+1]-x[i-1]) # Derivada central\n",
        "  dydx[n] = (y[n]-y[n-1])/(x[n]-x[n-1])\n",
        "  return dydx\n",
        "v = derivada(y,x) # Primeira derivda\n",
        "a = derivada(v,x) # Segunda derivda\n",
        "Mx = -a*1.2e7\n",
        "print(a)"
      ]
    },
    {
      "cell_type": "markdown",
      "source": [
        "# Exercício 2 (6.25-Gilat)\n",
        "\n",
        "Uma estação de radar faz o rastreamento do movimento de uma aeronave. A distância $r(t)$ da aeronave e o ângulo $\\theta(t)$ durante um período de 60 s são apresentados na tabela a seguir.\n",
        "\n",
        "| t (s) | r (km) | θ (rad) |\n",
        "|-------|-------|-----------|\n",
        "| 0     | 18,8030 | 7,854     |\n",
        "| 4     | 18,8610 | 7,792     |\n",
        "| 8     | 18,9460 | 7,701     |\n",
        "| 12    | 19,0420 | 7,594     |\n",
        "| 16    | 19,1480 | 7,477     |\n",
        "| 20    | 19,2600 | 7,350     |\n",
        "| 24    | 19,3760 | 7,215     |\n",
        "| 28    | 19,4950 | 7,073     |\n",
        "| 32    | 19,6170 | 6,925     |\n",
        "| 36    | 19,7410 | 6,771     |\n",
        "| 40    | 19,8650 | 6,612     |\n",
        "| 44    | 19,9900 | 6,448     |\n",
        "| 48    | 20,1150 | 6,280     |\n",
        "| 52    | 20,2390 | 6,107     |\n",
        "| 56    | 20,3620 | 5,931     |\n",
        "| 60    | 20,4840 | 5,750     |\n",
        "\n",
        "\n",
        "O módulo da velocidade instantânea e da aceleração da aeronave podem ser calculados com:\n",
        "\n",
        "\\begin{align}\n",
        "v &= \\sqrt{\\left(\\frac{dr}{dt}\\right)^2 + \\left(r\\frac{d\\theta}{dt}\\right)^2}\\\\\n",
        "a &= \\sqrt{\\left(\\frac{d^2r}{dt^2} - r\\left(\\frac{d\\theta}{dt}\\right)^2\\right)^2 + \\left(r\\frac{d^2\\theta}{dt^2} + 2\\frac{dr}{dt}\\frac{d\\theta}{dt}\\right)^2}\n",
        "\\end{align}\n",
        "\n",
        "Determine os módulos da velocidade e da aceleração nos tempos dados na tabela. Trace gráficos da velocidade e da aceleração versus tempo (dois gráficos separados na mesma página)."
      ],
      "metadata": {
        "id": "oaBSpPwkvc6j"
      }
    },
    {
      "cell_type": "code",
      "source": [
        "import pandas as pd\n",
        "\n",
        "sheet_url=\"https://docs.google.com/spreadsheets/d/1T7-Lc3Ewo3NRskVWBtZ5vGGTFeCZa3re6dboKq-2cTc/edit#gid=0\"\n",
        "url_1=sheet_url.replace('/edit#gid=', '/export?format=csv&gid=')\n",
        "# Lendo os dados da planilha\n",
        "arquivo=pd.read_csv(url_1,decimal=',')\n",
        "print(arquivo)\n",
        "\n",
        "# Separando os dados\n",
        "t = arquivo['t'].to_numpy()\n",
        "r = arquivo['r'].to_numpy()\n",
        "theta = arquivo['theta'].to_numpy()"
      ],
      "metadata": {
        "colab": {
          "base_uri": "https://localhost:8080/"
        },
        "id": "AIY45MJHx3oS",
        "outputId": "ff673b5d-f61e-424c-a434-a4471a2d9035"
      },
      "execution_count": null,
      "outputs": [
        {
          "output_type": "stream",
          "name": "stdout",
          "text": [
            "       t       r  theta\n",
            "0    0.0  18.803  7.854\n",
            "1    4.0  18.861  7.792\n",
            "2    8.0  18.946  7.701\n",
            "3   12.0  19.042  7.594\n",
            "4   16.0  19.148  7.477\n",
            "5   20.0  19.260  7.350\n",
            "6   24.0  19.376  7.215\n",
            "7   28.0  19.495  7.073\n",
            "8   32.0  19.617  6.925\n",
            "9   36.0  19.741  6.771\n",
            "10  40.0  19.865  6.612\n",
            "11  44.0  19.990  6.448\n",
            "12  48.0  20.115  6.280\n",
            "13  52.0  20.239  6.107\n",
            "14  56.0  20.362  5.931\n",
            "15  60.0  20.484  5.750\n"
          ]
        }
      ]
    }
  ]
}