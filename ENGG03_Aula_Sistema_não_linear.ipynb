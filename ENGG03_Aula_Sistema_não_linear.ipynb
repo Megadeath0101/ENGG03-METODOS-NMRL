{
  "nbformat": 4,
  "nbformat_minor": 0,
  "metadata": {
    "colab": {
      "provenance": [],
      "include_colab_link": true
    },
    "kernelspec": {
      "name": "python3",
      "display_name": "Python 3"
    },
    "language_info": {
      "name": "python"
    }
  },
  "cells": [
    {
      "cell_type": "markdown",
      "metadata": {
        "id": "view-in-github",
        "colab_type": "text"
      },
      "source": [
        "<a href=\"https://colab.research.google.com/github/Megadeath0101/ENGG03-METODOS-NMRL/blob/main/ENGG03_Aula_Sistema_n%C3%A3o_linear.ipynb\" target=\"_parent\"><img src=\"https://colab.research.google.com/assets/colab-badge.svg\" alt=\"Open In Colab\"/></a>"
      ]
    },
    {
      "cell_type": "markdown",
      "source": [
        "# Resolução de sistema não linear\n",
        "\n",
        "Dado um sistema de equação não linear descrito por:\n",
        "\\begin{align}\n",
        "f_1(x_1,x_2,\\dots,x_{n})&=0\\\\\n",
        "f_2(x_1,x_2,\\dots,x_{n})&=0\\\\\n",
        "\\vdots & \\\\\n",
        "f_n(x_1,x_2,\\dots,x_{n})&=0\\\\\n",
        "\\end{align}\n",
        "\n",
        "Aplicando a aproximação pela série de taylor, temos\n",
        "\\begin{align}\n",
        "f_1(x_1,x_2,\\dots,x_{n}) &\\approx f_1(x_1^*,x_2^*,\\dots,x_n^*) + \\frac{\\partial f_1}{\\partial x_1} \\left(x_1 - x_1^* \\right) + \\frac{\\partial f_1}{\\partial x_2} \\left(x_2 - x_2^* \\right) + \\dots + \\frac{\\partial f_1}{\\partial x_n} \\left(x_n - x_n^* \\right)\\\\\n",
        "f_2(x_1,x_2,\\dots,x_{n}) &\\approx f_2(x_1^*,x_2^*,\\dots,x_n^*) + \\frac{\\partial f_2}{\\partial x_1} \\left(x_1 - x_1^* \\right) + \\frac{\\partial f_2}{\\partial x_2} \\left(x_2 - x_2^* \\right) + \\dots + \\frac{\\partial f_2}{\\partial x_n} \\left(x_n - x_n^* \\right)\\\\\n",
        "\\vdots & \\\\\n",
        "f_n(x_1,x_2,\\dots,x_{n}) &\\approx f_n(x_1^*,x_2^*,\\dots,x_n^*) + \\frac{\\partial f_n}{\\partial x_1} \\left(x_1 - x_1^* \\right) + \\frac{\\partial f_n}{\\partial x_2} \\left(x_2 - x_2^* \\right) + \\dots + \\frac{\\partial f_n}{\\partial x_n} \\left(x_n - x_n^* \\right)\n",
        "\\end{align}\n",
        "\n",
        "Colocando na forma matricial, temos:\n",
        "\\begin{align}\n",
        "\\underset{\\mathbf{F}(\\mathbf{X})}{\n",
        "\\begin{bmatrix}\n",
        "f_1(x_1,x_2,\\dots,x_{n})\\\\\n",
        "f_2(x_1,x_2,\\dots,x_{n})\\\\\n",
        "\\vdots\\\\\n",
        "f_n(x_1,x_2,\\dots,x_{n})\\\\\n",
        "\\end{bmatrix}} &=\n",
        "\\underset{\\mathbf{F}(\\mathbf{X}^*)}{\n",
        "\\begin{bmatrix}\n",
        "f_1(x_1^*,x_2^*,\\dots,x_n^*)\\\\\n",
        "f_2(x_1^*,x_2^*,\\dots,x_n^*)\\\\\n",
        "\\vdots\\\\\n",
        "f_n(x_1^*,x_2^*,\\dots,x_n^*)\\\\\n",
        "\\end{bmatrix}}\n",
        "+\n",
        "\\underset{\\mathbf{F}'(\\mathbf{X}^*)}{\n",
        "\\begin{bmatrix}\n",
        "\\frac{\\partial f_1}{\\partial x_1} & \\frac{\\partial f_1}{\\partial x_2} & \\dots & \\frac{\\partial f_1}{\\partial x_n}\\\\\n",
        "\\frac{\\partial f_2}{\\partial x_1} & \\frac{\\partial f_2}{\\partial x_2} & \\dots & \\frac{\\partial f_2}{\\partial x_n}\\\\\n",
        "\\vdots & \\vdots & \\ddots & \\vdots\\\\\n",
        "\\frac{\\partial f_n}{\\partial x_1} & \\frac{\\partial f_n}{\\partial x_2} & \\dots & \\frac{\\partial f_n}{\\partial x_n}\\\\\n",
        "\\end{bmatrix}}\n",
        "\\underset{\\mathbf{X} - \\mathbf{X}^*}{\n",
        "\\begin{bmatrix}\n",
        "x_1 - x_1^*\\\\\n",
        "x_2 - x_2^*\\\\\n",
        "\\vdots\\\\\n",
        "x_n - x_n^*\\\\\n",
        "\\end{bmatrix}}\\\\\n",
        "\\mathbf{F}(\\mathbf{X}) &= \\mathbf{F}(\\mathbf{X}^*) + \\mathbf{F}'(\\mathbf{X}^*) (\\mathbf{X} - \\mathbf{X}^*)\n",
        "\\end{align}\n",
        "\n",
        "## Método Newton-Rapshon\n",
        "Partindo de um conjunto de ponto $\\mathbf{X}_k = \\begin{bmatrix}x_{1,k}\\\\x_{2,k}\\\\\\vdots\\\\x_{n,k} \\end{bmatrix}$, temos\n",
        "\\begin{align}\n",
        "\\mathbf{F}(\\mathbf{X}) &= \\mathbf{F}(\\mathbf{X}_k) + \\mathbf{F}'(\\mathbf{X}_k) (\\mathbf{X} - \\mathbf{X}_k) \\\\\n",
        "\\mathbf{F}(\\mathbf{X}_{k+1}) &= \\mathbf{F}(\\mathbf{X}_k) + \\mathbf{F}'(\\mathbf{X}_k) (\\mathbf{X}_{k+1} - \\mathbf{X}_k)\\\\\n",
        "\\mathbf{F}(\\mathbf{X}_{k+1}) &=0\\\\\n",
        "\\mathbf{F}(\\mathbf{X}_k) + \\mathbf{F}'(\\mathbf{X}_k) (\\mathbf{X}_{k+1} - \\mathbf{X}_k) &=0\\\\\n",
        " \\mathbf{F}'(\\mathbf{X}_k) (\\mathbf{X}_{k+1} - \\mathbf{X}_k) &=-\\mathbf{F}(\\mathbf{X}_k)\\\\\n",
        "(\\mathbf{X}_{k+1} - \\mathbf{X}_k) &=-\\mathbf{F}'(\\mathbf{X}_k)^{-1}\\mathbf{F}(\\mathbf{X}_k)\\\\\n",
        "\\mathbf{X}_{k+1} &= \\mathbf{X}_k -\\mathbf{F}'(\\mathbf{X}_k)^{-1}\\mathbf{F}(\\mathbf{X}_k)\n",
        "\\end{align}\n",
        "\n"
      ],
      "metadata": {
        "id": "WzUIoRGt3BE0"
      }
    },
    {
      "cell_type": "code",
      "source": [],
      "metadata": {
        "id": "nEYufl0esO4X"
      },
      "execution_count": null,
      "outputs": []
    },
    {
      "cell_type": "code",
      "source": [
        "#@title Algoritmo de Newton-Raphson\n",
        "import numpy as np\n",
        "# Definindo a função\n",
        "def funcao(X):\n",
        "  x1 = X[0,0]\n",
        "  x2 = X[1,0]\n",
        "  F = np.array([[(x1**2)/3 + x2**2 - 1],\n",
        "                [x1**2 + (x2**2)/4 - 1]])\n",
        "  return F\n",
        "\n",
        "# Definindo a derivada da funca\n",
        "def derivada_funcao(X):\n",
        "  dF = np.array([[2*X[0,0]/3, 2*X[1,0]],\n",
        "                 [2*X[0,0], X[1,0]/2]])\n",
        "  return dF\n",
        "\n",
        "\n",
        "# Valor de partida, estimativa inicial\n",
        "Xk = np.array([[1.0],[1.0]])\n",
        "\n",
        "# Valor da função para o ponto k\n",
        "Fk = funcao(Xk)\n",
        "dFk = derivada_funcao(Xk)\n",
        "tol = 1e-8 # Tolerância\n",
        "erro = Fk.T.dot(Fk)[0,0] # Somatório (Fk)^2\n",
        "\n",
        "while abs(erro) > tol: # Critério de parada\n",
        "  # Atulizando o valor de xk\n",
        "  Xk = Xk - np.linalg.inv(dFk).dot(Fk) # Xk = Xk - np.linalg.solve(dFk,Fk)\n",
        "\n",
        "  # Atualizando o valor de f(x_k)\n",
        "  Fk = funcao(Xk)\n",
        "  dFk = derivada_funcao(Xk)\n",
        "  erro = Fk.T.dot(Fk)[0,0] # Somatório (Fk)^2\n",
        "\n",
        "  print('Valor atual de x',Xk.T)\n",
        "  print('Valor atual de f(x)',Fk.T)"
      ],
      "metadata": {
        "colab": {
          "base_uri": "https://localhost:8080/"
        },
        "id": "2CJPfP2qdh4U",
        "outputId": "9c9e5c2e-cf76-4523-e565-3a565927918d"
      },
      "execution_count": null,
      "outputs": [
        {
          "output_type": "stream",
          "name": "stdout",
          "text": [
            "Valor atual de x [[0.90909091 0.86363636]]\n",
            "Valor atual de f(x) [[0.02134986 0.01291322]]\n",
            "Valor atual de x [[0.90454545 0.85287081]]\n",
            "Valor atual de f(x) [[1.22784124e-04 4.96354250e-05]]\n",
            "Valor atual de x [[0.90453403 0.85280287]]\n",
            "Valor atual de f(x) [[4.66003724e-09 1.28457311e-09]]\n"
          ]
        }
      ]
    },
    {
      "cell_type": "code",
      "source": [
        "#@title Usando função nativa do python\n",
        "from scipy.optimize import fsolve\n",
        "# Definindo a função\n",
        "def funcao(X):\n",
        "  F = np.array([(X[0]**2)/3 + X[1]**2 - 1,\n",
        "                 X[0]**2 + (X[1]**2)/4 - 1])\n",
        "  return F\n",
        "# Estimativa initial\n",
        "X0 = np.array([1.0,1.0])\n",
        "X = fsolve(funcao,X0)\n",
        "print(\"A raiz da função:\", X)"
      ],
      "metadata": {
        "colab": {
          "base_uri": "https://localhost:8080/"
        },
        "id": "QBOPxtZ6eHVu",
        "outputId": "214bd0f0-280c-4c65-fc67-d745e4daf2e5"
      },
      "execution_count": null,
      "outputs": [
        {
          "output_type": "stream",
          "name": "stdout",
          "text": [
            "A raiz da função: [0.90453403 0.85280287]\n"
          ]
        }
      ]
    }
  ]
}