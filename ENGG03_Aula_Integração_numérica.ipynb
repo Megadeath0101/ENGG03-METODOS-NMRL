{
  "nbformat": 4,
  "nbformat_minor": 0,
  "metadata": {
    "colab": {
      "provenance": [],
      "include_colab_link": true
    },
    "kernelspec": {
      "name": "python3",
      "display_name": "Python 3"
    },
    "language_info": {
      "name": "python"
    }
  },
  "cells": [
    {
      "cell_type": "markdown",
      "metadata": {
        "id": "view-in-github",
        "colab_type": "text"
      },
      "source": [
        "<a href=\"https://colab.research.google.com/github/Megadeath0101/ENGG03-METODOS-NMRL/blob/main/ENGG03_Aula_Integra%C3%A7%C3%A3o_num%C3%A9rica.ipynb\" target=\"_parent\"><img src=\"https://colab.research.google.com/assets/colab-badge.svg\" alt=\"Open In Colab\"/></a>"
      ]
    },
    {
      "cell_type": "markdown",
      "source": [
        "# Integração numérica"
      ],
      "metadata": {
        "id": "MxYHktOhnTTN"
      }
    },
    {
      "cell_type": "code",
      "execution_count": null,
      "metadata": {
        "colab": {
          "base_uri": "https://localhost:8080/",
          "height": 623
        },
        "cellView": "form",
        "id": "SJ28XGy6d5LR",
        "outputId": "1a1ad015-86e9-4e07-855c-c18b14b96a4a"
      },
      "outputs": [
        {
          "output_type": "display_data",
          "data": {
            "text/plain": [
              "<IPython.core.display.HTML object>"
            ],
            "text/html": [
              "<iframe src=\"https://www.geogebra.org/classic/rsdnbbs8?embed\" width=\"1200\" height=\"600\" allowfullscreen style=\"border: 1px solid #e4e4e4;border-radius: 4px;\" frameborder=\"0\"></iframe>\n"
            ]
          },
          "metadata": {}
        }
      ],
      "source": [
        "#@title Visualização Geogebra\n",
        "%%html\n",
        "<iframe src=\"https://www.geogebra.org/classic/rsdnbbs8?embed\" width=\"1200\" height=\"600\" allowfullscreen style=\"border: 1px solid #e4e4e4;border-radius: 4px;\" frameborder=\"0\"></iframe>"
      ]
    },
    {
      "cell_type": "markdown",
      "source": [
        "## Exemplo\n",
        "\n",
        "Integre a função\n",
        "$$ f(x) = 3.0e^{-0.2(x+3)}\\cos{(2(x+3))}$$\n",
        "\n",
        "$$ \\sum f(x_i)*\\Delta x$$"
      ],
      "metadata": {
        "id": "4PFAy2aWGf9b"
      }
    },
    {
      "cell_type": "code",
      "source": [
        "#@title Usando pontos\n",
        "import numpy as np\n",
        "def f(x):\n",
        "  return 3.0*np.exp(-0.2*(x+3.))*np.cos(2.*(x+3.))\n",
        "\n",
        "# Definir o intervalo de integração\n",
        "a, b = [0., 10.]\n",
        "# Definir o numero de espaçamentos\n",
        "N = 200\n",
        "# Construir o vetor de x\n",
        "x = np.linspace(a,b,N+1)\n",
        "def integral_numerica(funcao,x):\n",
        "  # Integral\n",
        "  Ic = 0. # Area retangulo central\n",
        "  It = 0. # Area trapezio\n",
        "  N = len(x)-1\n",
        "  for i in range(N):\n",
        "    # Somatorio dos rentagulos centrais\n",
        "    Ic += funcao((x[i]+x[i+1])/2)*(x[i+1]-x[i])\n",
        "    # Somatorio dos trapezios\n",
        "    It += (funcao(x[i])+funcao(x[i+1]))*(x[i+1]-x[i])/2\n",
        "  return Ic, It\n",
        "\n",
        "Ic, It = integral_numerica(f,x)\n",
        "print(Ic, It)\n"
      ],
      "metadata": {
        "id": "ryhdcVa5qiSU",
        "colab": {
          "base_uri": "https://localhost:8080/"
        },
        "outputId": "0a4e0ae9-601a-4c3b-fa91-888253ecd8cc"
      },
      "execution_count": null,
      "outputs": [
        {
          "output_type": "stream",
          "name": "stdout",
          "text": [
            "0.38308367041263797 0.382779720424394\n"
          ]
        }
      ]
    },
    {
      "cell_type": "code",
      "source": [
        "#@title Função de díficil integraçao\n",
        "from scipy.integrate import quad\n",
        "\n",
        "# Calculo da integral\n",
        "I = quad(f, a, b)\n",
        "print(I)"
      ],
      "metadata": {
        "id": "E-ggqsRyqvHH",
        "colab": {
          "base_uri": "https://localhost:8080/"
        },
        "outputId": "d5cd9dce-2539-4124-f0d2-14a99ace17ae"
      },
      "execution_count": null,
      "outputs": [
        {
          "output_type": "stream",
          "name": "stdout",
          "text": [
            "(0.3829823505999349, 6.015696621397559e-12)\n"
          ]
        }
      ]
    },
    {
      "cell_type": "markdown",
      "source": [
        "# Exercício: Escoamento de um tanque\n",
        "\n",
        "Um tanque vertical cilíndrico com diâmetro $D = 60$ cm tem um furo com diâmetro $d = 5$ cm próximo a seu fundo. A água entra no tanque por meio de um cano em seu topo a uma taxa $Q = 4.25 \\times 10^{−3}$ m$^3$/s. O tempo $t$ necessário para encher o tanque de seu nível inicial $h(0) = 2.7$ m para o nível $h(t)$ é dado por:\n",
        "\n",
        "$$t = \\int_{h_0}^{h} \\frac{1}{\\frac{4Q}{\\pi D^2} - \\frac{d^2}{D^2}\\sqrt{2gy}} dy$$\n",
        "\n",
        "Determinie o tempo para o nível atingir $h(t)=1.5$ m"
      ],
      "metadata": {
        "id": "tFkG82Lx5Tnk"
      }
    },
    {
      "cell_type": "code",
      "source": [
        "# Escoamento do tanque\n",
        "\n",
        "def integrando(y):\n",
        "  D = 60e-2\n",
        "  d = 5e-2\n",
        "  g = 9.81\n",
        "  Q = 4.25e-3\n",
        "\n",
        "  return 1/((4*Q)/(np.pi*D**2) - (d**2)/(D**2)*np.sqrt(2*g*y))\n",
        "\n",
        "# Intevarlo de integração\n",
        "h0, h = [2.7, 1.5]\n",
        "t, err = quad(integrando, h0, h)\n",
        "print(t)\n",
        "\n",
        "hv = np.linspace(h0, h, 100)\n",
        "Ic, It = integral_numerica(integrando,hv)\n",
        "print(Ic, It)\n"
      ],
      "metadata": {
        "colab": {
          "base_uri": "https://localhost:8080/"
        },
        "id": "Wd0DHJZYVI01",
        "outputId": "fb636285-3198-4800-8d31-65dc5a3ea059"
      },
      "execution_count": null,
      "outputs": [
        {
          "output_type": "stream",
          "name": "stdout",
          "text": [
            "41.505976123251294\n",
            "41.505871603443865 41.50618516454162\n"
          ]
        }
      ]
    }
  ]
}